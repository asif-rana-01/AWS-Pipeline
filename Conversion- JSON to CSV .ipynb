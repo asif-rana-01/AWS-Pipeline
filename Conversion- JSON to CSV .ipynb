{
 "cells": [
  {
   "cell_type": "code",
   "execution_count": 4,
   "metadata": {},
   "outputs": [],
   "source": [
    "# Importing Necessary libraries\n",
    "import json\n",
    "import pandas as pd\n",
    "import glob\n",
    "files=glob.glob('C:/Users/user/Desktop/Capstone Project/Dataset/*.json')\n",
    "\n",
    "for file in files:\n",
    "    with open(file, 'r') as data_file:\n",
    "        data = json.load(data_file)\n",
    "    # Removing header from the file\n",
    "    data.pop('parameters', None)\n",
    "    data_items = data.items()\n",
    "    data_list = list(data_items)\n",
    "\n",
    "    # Changing the encoding to enable editing\n",
    "    df = pd.DataFrame(data_list, columns=[\"Pressure\", \"Value\"])\n",
    "    df['temp1'] = df['Value'].astype(\"|S\")\n",
    "    df['temp'] = df['temp1'].str.decode(\"utf-8\")\n",
    "\n",
    "    # Extracting and saving the features\n",
    "    df['10'] = df['temp'].str.split(':').str[1]\n",
    "    df['10'] = df['10'].str.split(',').str[0]\n",
    "    df['12'] = df['temp'].str.split(':').str[3]\n",
    "    df['12'] = df['12'].str.split(',').str[0]\n",
    "    df['14'] = df['temp'].str.split(':').str[5]\n",
    "    df['14'] = df['14'].str.split(',').str[0]\n",
    "    df['16'] = df['temp'].str.split(':').str[7]\n",
    "    df['16'] = df['16'].str.split(',').str[0]\n",
    "    df['20'] = df['temp'].str.split(':').str[9]\n",
    "    df['20'] = df['20'].str.split(',').str[0]\n",
    "    df['22'] = df['temp'].str.split(':').str[11]\n",
    "    df['22'] = df['22'].str.split(',').str[0]\n",
    "    df['24'] = df['temp'].str.split(':').str[13]\n",
    "    df['24'] = df['24'].str.split(',').str[0]\n",
    "    df['26'] = df['temp'].str.split(':').str[15]\n",
    "    df['26'] = df['26'].str.split(',').str[0]\n",
    "    df_final = df.drop(['Value','temp1','temp'], axis = 1)\n",
    "    file = file.replace('json', 'csv')\n",
    "    # Exporting the dataframe to csv\n",
    "    df_final.to_csv(file, index = None)"
   ]
  },
  {
   "cell_type": "code",
   "execution_count": null,
   "metadata": {},
   "outputs": [],
   "source": []
  }
 ],
 "metadata": {
  "colab": {
   "name": "DataPrep.ipynb",
   "provenance": []
  },
  "kernelspec": {
   "display_name": "Python 3",
   "language": "python",
   "name": "python3"
  },
  "language_info": {
   "codemirror_mode": {
    "name": "ipython",
    "version": 3
   },
   "file_extension": ".py",
   "mimetype": "text/x-python",
   "name": "python",
   "nbconvert_exporter": "python",
   "pygments_lexer": "ipython3",
   "version": "3.8.8"
  }
 },
 "nbformat": 4,
 "nbformat_minor": 1
}
