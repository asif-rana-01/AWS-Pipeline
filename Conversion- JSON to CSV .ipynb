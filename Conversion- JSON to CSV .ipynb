{
 "cells": [
  {
   "cell_type": "code",
   "execution_count": 1,
   "metadata": {
    "id": "S4sPDreFNrq8"
   },
   "outputs": [],
   "source": [
    "# Importing Necessary libraries\n",
    "import json\n",
    "import pandas as pd\n",
    "\n",
    "# Reading JSON file\n",
    "file_name = '2021-03-16-17 14-23-38 Pipe Position 3-counts.json'\n",
    "with open(file_name, 'r') as data_file:\n",
    "    data = json.load(data_file)\n",
    "\n",
    "# Removing header from the file\n",
    "data.pop('parameters', None)\n",
    "data_items = data.items()\n",
    "data_list = list(data_items)\n",
    "\n",
    "# Changing the encoding to enable editing\n",
    "df = pd.DataFrame(data_list, columns=[\"Pressure\", \"Value\"])\n",
    "df['temp1'] = df['Value'].astype(\"|S\")\n",
    "df['temp'] = df['temp1'].str.decode(\"utf-8\")\n",
    "\n",
    "# Extracting and saving the features\n",
    "df['10'] = df['temp'].str.split(':').str[1]\n",
    "df['10'] = df['10'].str.split(',').str[0]\n",
    "df['11'] = df['temp'].str.split(':').str[2]\n",
    "df['11'] = df['11'].str.split(',').str[0]\n",
    "df['12'] = df['temp'].str.split(':').str[3]\n",
    "df['12'] = df['12'].str.split(',').str[0]\n",
    "df['13'] = df['temp'].str.split(':').str[4]\n",
    "df['13'] = df['13'].str.split(',').str[0]\n",
    "df['14'] = df['temp'].str.split(':').str[5]\n",
    "df['14'] = df['14'].str.split(',').str[0]\n",
    "df['15'] = df['temp'].str.split(':').str[6]\n",
    "df['15'] = df['15'].str.split(',').str[0]\n",
    "df['16'] = df['temp'].str.split(':').str[7]\n",
    "df['16'] = df['16'].str.split(',').str[0]\n",
    "df['17'] = df['temp'].str.split(':').str[8]\n",
    "df['17'] = df['17'].str.split(',').str[0]\n",
    "df['20'] = df['temp'].str.split(':').str[9]\n",
    "df['20'] = df['20'].str.split(',').str[0]\n",
    "df['21'] = df['temp'].str.split(':').str[10]\n",
    "df['21'] = df['21'].str.split(',').str[0]\n",
    "df['22'] = df['temp'].str.split(':').str[11]\n",
    "df['22'] = df['22'].str.split(',').str[0]\n",
    "df['23'] = df['temp'].str.split(':').str[12]\n",
    "df['23'] = df['23'].str.split(',').str[0]\n",
    "df['24'] = df['temp'].str.split(':').str[13]\n",
    "df['24'] = df['24'].str.split(',').str[0]\n",
    "df['25'] = df['temp'].str.split(':').str[14]\n",
    "df['25'] = df['25'].str.split(',').str[0]\n",
    "df['26'] = df['temp'].str.split(':').str[15]\n",
    "df['26'] = df['26'].str.split(',').str[0]\n",
    "df['27'] = df['temp'].str.split(':').str[16]\n",
    "df['27'] = df['27'].str.split(',').str[0]\n",
    "df['27'] = df['27'].str.split('}').str[0]\n",
    "\n",
    "df_final = df.drop(['Value','temp1','temp'], axis = 1)\n",
    "file_name = file_name.replace('json', 'csv')\n",
    "# Exporting the dataframe to csv\n",
    "df_final.to_csv(file_name, index = None)"
   ]
  },
  {
   "cell_type": "code",
   "execution_count": null,
   "metadata": {},
   "outputs": [],
   "source": []
  }
 ],
 "metadata": {
  "colab": {
   "name": "DataPrep.ipynb",
   "provenance": []
  },
  "kernelspec": {
   "display_name": "Python 3",
   "language": "python",
   "name": "python3"
  },
  "language_info": {
   "codemirror_mode": {
    "name": "ipython",
    "version": 3
   },
   "file_extension": ".py",
   "mimetype": "text/x-python",
   "name": "python",
   "nbconvert_exporter": "python",
   "pygments_lexer": "ipython3",
   "version": "3.6.5"
  }
 },
 "nbformat": 4,
 "nbformat_minor": 1
}
